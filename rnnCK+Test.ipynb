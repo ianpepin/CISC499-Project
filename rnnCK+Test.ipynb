{
  "nbformat": 4,
  "nbformat_minor": 0,
  "metadata": {
    "colab": {
      "name": "rnnCK+Test.ipynb",
      "provenance": [],
      "collapsed_sections": []
    },
    "kernelspec": {
      "display_name": "Python 3",
      "name": "python3"
    }
  },
  "cells": [
    {
      "cell_type": "code",
      "metadata": {
        "id": "DXQRDwsOEPqS"
      },
      "source": [
        "import os\n",
        "import cv2\n",
        "import numpy as np\n",
        "import matplotlib.pyplot as plt\n",
        "from sklearn.model_selection import train_test_split\n",
        "import tensorflow as tf\n",
        "import keras\n",
        "from keras import backend as K\n",
        "from keras.utils import np_utils\n",
        "from keras.models import Sequential\n",
        "from keras.layers import Dense, Dropout, Flatten, LSTM, TimeDistributed, Conv2D, MaxPooling2D"
      ],
      "execution_count": 55,
      "outputs": []
    },
    {
      "cell_type": "code",
      "metadata": {
        "id": "Sk8NncX5ET7x"
      },
      "source": [
        "np.random.seed(10)\n",
        "\n",
        "path = \"/content/drive/MyDrive/CISC499/CK+_Complete\"\n",
        "\n",
        "dataDirectoryList = os.listdir(path)\n",
        "imageDataList = []\n",
        "labels = []\n",
        "labelDictionary = {\"anger\":0, \"contempt\":1, \"disgust\":2, \"fear\":3, \"happy\":4, \"sadness\":5, \"surprise\":6}"
      ],
      "execution_count": 56,
      "outputs": []
    },
    {
      "cell_type": "code",
      "metadata": {
        "colab": {
          "base_uri": "https://localhost:8080/"
        },
        "id": "dAqf4ZmyEUtR",
        "outputId": "c373af64-8d98-4fad-c988-04fbfcc02a3c"
      },
      "source": [
        "for dataset in dataDirectoryList:\n",
        "  imageList = os.listdir(path + \"/\" + dataset)\n",
        "  print(\"Loaded the images of dataset-\" + '{}\\n'.format(dataset))\n",
        "  for image in imageList:\n",
        "    imagepath = path + \"/\" + dataset + \"/\" + image\n",
        "    inputImage = cv2.imread(imagepath)\n",
        "    inputImage = cv2.resize(inputImage, (48, 48))   # Resize images to 48x48\n",
        "    imageDataList.append(inputImage)\n",
        "    labels.append(labelDictionary[dataset])    # Label of each image is the name of its folder"
      ],
      "execution_count": 57,
      "outputs": [
        {
          "output_type": "stream",
          "text": [
            "Loaded the images of dataset-sadness\n",
            "\n",
            "Loaded the images of dataset-disgust\n",
            "\n",
            "Loaded the images of dataset-happy\n",
            "\n",
            "Loaded the images of dataset-fear\n",
            "\n",
            "Loaded the images of dataset-contempt\n",
            "\n",
            "Loaded the images of dataset-anger\n",
            "\n",
            "Loaded the images of dataset-surprise\n",
            "\n"
          ],
          "name": "stdout"
        }
      ]
    },
    {
      "cell_type": "code",
      "metadata": {
        "colab": {
          "base_uri": "https://localhost:8080/"
        },
        "id": "eRGSjozIEdH_",
        "outputId": "867d84bb-e3c3-476d-dd27-6fa2d6ef976d"
      },
      "source": [
        "lenSequence = 5\n",
        "# Creates sequences of 5 images and adds them to a list.\n",
        "newImageDataList = []\n",
        "for i in range(0, len(imageDataList), lenSequence):\n",
        "  newList = []\n",
        "  image1 = imageDataList[i-5]\n",
        "  image2 = imageDataList[i-4]\n",
        "  image3 = imageDataList[i-3]\n",
        "  image4 = imageDataList[i-2]\n",
        "  image5 = imageDataList[i-1]\n",
        "  newList.append(image1)\n",
        "  newList.append(image2)\n",
        "  newList.append(image3)\n",
        "  newList.append(image4)\n",
        "  newList.append(image5)\n",
        "  newImageDataList.append(newList)\n",
        "newImageData = np.array(newImageDataList).astype(\"float32\") \n",
        "print(newImageData.shape)   # 327 sequences, 5 images per sequences, shape of image is 48x48x3.\n",
        "newImageData /= 255    # Normalize images\n",
        "numClasses = 7    # Labels of emotions"
      ],
      "execution_count": 58,
      "outputs": [
        {
          "output_type": "stream",
          "text": [
            "(327, 5, 48, 48, 3)\n"
          ],
          "name": "stdout"
        }
      ]
    },
    {
      "cell_type": "code",
      "metadata": {
        "id": "Is2J5Ru8EeQu"
      },
      "source": [
        "# Convert labels to one-hot encoding\n",
        "oneHot = np_utils.to_categorical(labels, numClasses)\n",
        "# Since the data is divided by 5 because they are now sequences, the labels should also be divided by 5.\n",
        "# One sequence of 5 images should only have one label.\n",
        "newOneHot = oneHot[0: len(oneHot): lenSequence]\n",
        "\n",
        "# Split the dataset into training and testing\n",
        "xTrain, xTest, yTrain, yTest = train_test_split(\n",
        "    newImageData, newOneHot, test_size=0.15, random_state=10)\n",
        " \n",
        "# Split validation data\n",
        "xTrain, xValid, yTrain, yValid = train_test_split(\n",
        "    xTrain, yTrain, test_size=0.15, random_state=10)"
      ],
      "execution_count": 59,
      "outputs": []
    },
    {
      "cell_type": "code",
      "metadata": {
        "id": "v8HUy1uUiaSu"
      },
      "source": [
        "# Kernel size\n",
        "# kernelSize = (2, 2)\n",
        "# kernelSize = (3, 3)\n",
        "kernelSize = (5, 5)\n",
        "# kernelSize = (7, 7)"
      ],
      "execution_count": 60,
      "outputs": []
    },
    {
      "cell_type": "code",
      "metadata": {
        "id": "DwdByfjeHTYl",
        "colab": {
          "base_uri": "https://localhost:8080/"
        },
        "outputId": "bf2e2cff-901a-4150-edca-0d12082266f3"
      },
      "source": [
        "# Defining the model\n",
        "model = Sequential()\n",
        "\n",
        "\"\"\"# Convolutional layer.\n",
        "model.add(TimeDistributed(Conv2D(16, kernel_size=kernelSize, activation=\"relu\", padding=\"same\"), input_shape=(5, 48, 48, 3)))\n",
        "# Max pooling layer\n",
        "model.add(TimeDistributed(MaxPooling2D(pool_size=(2, 2))))\"\"\"\n",
        "\n",
        "# Convolutional layer.\n",
        "model.add(TimeDistributed(Conv2D(32, kernel_size=kernelSize, activation=\"relu\", padding=\"same\"), input_shape=(5, 48, 48, 3)))\n",
        "# Max pooling layer\n",
        "model.add(TimeDistributed(MaxPooling2D(pool_size=(2, 2))))\n",
        "print(model.output_shape)\n",
        "\n",
        "# Convolutional layer.\n",
        "model.add(TimeDistributed(Conv2D(64, kernel_size=kernelSize, activation=\"relu\", padding=\"same\")))\n",
        "# Max pooling layer\n",
        "model.add(TimeDistributed(MaxPooling2D(pool_size=(2, 2))))\n",
        "print(model.output_shape)\n",
        "\n",
        "# Convolutional layer.\n",
        "model.add(TimeDistributed(Conv2D(128, kernel_size=kernelSize, activation=\"relu\", padding=\"same\")))\n",
        "# Max pooling layer\n",
        "model.add(TimeDistributed(MaxPooling2D(pool_size=(2, 2))))\n",
        "print(model.output_shape)\n",
        "\n",
        "# Flattens the features\n",
        "# The output of this layer will now be: 5 timesteps, n features.\n",
        "model.add(TimeDistributed(Flatten()))\n",
        "print(model.output_shape)\n",
        "\n",
        "# LSTM layer\n",
        "model.add(LSTM(50))   # activation function = tanh\n",
        "print(model.output_shape)\n",
        "\n",
        "# Output layer with softmax function\n",
        "model.add(Dense(numClasses, activation=\"softmax\"))"
      ],
      "execution_count": 61,
      "outputs": [
        {
          "output_type": "stream",
          "text": [
            "(None, 5, 24, 24, 32)\n",
            "(None, 5, 12, 12, 64)\n",
            "(None, 5, 6, 6, 128)\n",
            "(None, 5, 4608)\n",
            "(None, 50)\n"
          ],
          "name": "stdout"
        }
      ]
    },
    {
      "cell_type": "code",
      "metadata": {
        "id": "1Kj3g7FHI6LK"
      },
      "source": [
        "# Compile Model\n",
        "model.compile(loss='categorical_crossentropy', optimizer='adam',metrics=[\"accuracy\"])"
      ],
      "execution_count": 62,
      "outputs": []
    },
    {
      "cell_type": "code",
      "metadata": {
        "colab": {
          "base_uri": "https://localhost:8080/"
        },
        "id": "UBm2FIvXI6wm",
        "outputId": "b78e2b5d-8dc3-4514-d52a-34efec47f7ed"
      },
      "source": [
        "model_hist  = model.fit(xTrain, yTrain, batch_size=50, epochs=40, verbose=1, validation_data=(xValid, yValid))"
      ],
      "execution_count": 63,
      "outputs": [
        {
          "output_type": "stream",
          "text": [
            "Epoch 1/40\n",
            "5/5 [==============================] - 12s 2s/step - loss: 2.0581 - accuracy: 0.1761 - val_loss: 1.8620 - val_accuracy: 0.2619\n",
            "Epoch 2/40\n",
            "5/5 [==============================] - 10s 2s/step - loss: 1.8619 - accuracy: 0.2453 - val_loss: 1.8196 - val_accuracy: 0.2619\n",
            "Epoch 3/40\n",
            "5/5 [==============================] - 10s 2s/step - loss: 1.8268 - accuracy: 0.2556 - val_loss: 1.8094 - val_accuracy: 0.2619\n",
            "Epoch 4/40\n",
            "5/5 [==============================] - 10s 2s/step - loss: 1.8491 - accuracy: 0.2640 - val_loss: 1.7804 - val_accuracy: 0.2619\n",
            "Epoch 5/40\n",
            "5/5 [==============================] - 10s 2s/step - loss: 1.7893 - accuracy: 0.2125 - val_loss: 1.7783 - val_accuracy: 0.2857\n",
            "Epoch 6/40\n",
            "5/5 [==============================] - 10s 2s/step - loss: 1.8068 - accuracy: 0.2192 - val_loss: 1.7566 - val_accuracy: 0.2619\n",
            "Epoch 7/40\n",
            "5/5 [==============================] - 10s 2s/step - loss: 1.7579 - accuracy: 0.2657 - val_loss: 1.7410 - val_accuracy: 0.2619\n",
            "Epoch 8/40\n",
            "5/5 [==============================] - 10s 2s/step - loss: 1.7175 - accuracy: 0.3185 - val_loss: 1.7087 - val_accuracy: 0.3571\n",
            "Epoch 9/40\n",
            "5/5 [==============================] - 10s 2s/step - loss: 1.6440 - accuracy: 0.2936 - val_loss: 1.7178 - val_accuracy: 0.2381\n",
            "Epoch 10/40\n",
            "5/5 [==============================] - 10s 2s/step - loss: 1.5755 - accuracy: 0.3249 - val_loss: 1.7431 - val_accuracy: 0.3095\n",
            "Epoch 11/40\n",
            "5/5 [==============================] - 10s 2s/step - loss: 1.5173 - accuracy: 0.4523 - val_loss: 1.6579 - val_accuracy: 0.3810\n",
            "Epoch 12/40\n",
            "5/5 [==============================] - 10s 2s/step - loss: 1.4132 - accuracy: 0.4861 - val_loss: 1.6195 - val_accuracy: 0.3095\n",
            "Epoch 13/40\n",
            "5/5 [==============================] - 10s 2s/step - loss: 1.3505 - accuracy: 0.4972 - val_loss: 1.4720 - val_accuracy: 0.3810\n",
            "Epoch 14/40\n",
            "5/5 [==============================] - 10s 2s/step - loss: 1.1576 - accuracy: 0.5994 - val_loss: 1.3572 - val_accuracy: 0.5476\n",
            "Epoch 15/40\n",
            "5/5 [==============================] - 10s 2s/step - loss: 0.9692 - accuracy: 0.6538 - val_loss: 1.6194 - val_accuracy: 0.3333\n",
            "Epoch 16/40\n",
            "5/5 [==============================] - 10s 2s/step - loss: 0.9294 - accuracy: 0.6755 - val_loss: 1.2067 - val_accuracy: 0.5476\n",
            "Epoch 17/40\n",
            "5/5 [==============================] - 10s 2s/step - loss: 0.6120 - accuracy: 0.8192 - val_loss: 1.0685 - val_accuracy: 0.6429\n",
            "Epoch 18/40\n",
            "5/5 [==============================] - 10s 2s/step - loss: 0.5749 - accuracy: 0.8351 - val_loss: 0.8535 - val_accuracy: 0.6905\n",
            "Epoch 19/40\n",
            "5/5 [==============================] - 10s 2s/step - loss: 0.4087 - accuracy: 0.8796 - val_loss: 0.8801 - val_accuracy: 0.7143\n",
            "Epoch 20/40\n",
            "5/5 [==============================] - 10s 2s/step - loss: 0.3423 - accuracy: 0.8912 - val_loss: 0.9942 - val_accuracy: 0.6429\n",
            "Epoch 21/40\n",
            "5/5 [==============================] - 10s 2s/step - loss: 0.3531 - accuracy: 0.9038 - val_loss: 0.6616 - val_accuracy: 0.7857\n",
            "Epoch 22/40\n",
            "5/5 [==============================] - 10s 2s/step - loss: 0.2414 - accuracy: 0.9222 - val_loss: 0.7605 - val_accuracy: 0.7619\n",
            "Epoch 23/40\n",
            "5/5 [==============================] - 10s 2s/step - loss: 0.2349 - accuracy: 0.9564 - val_loss: 0.7535 - val_accuracy: 0.7619\n",
            "Epoch 24/40\n",
            "5/5 [==============================] - 10s 2s/step - loss: 0.1496 - accuracy: 0.9667 - val_loss: 0.6070 - val_accuracy: 0.8571\n",
            "Epoch 25/40\n",
            "5/5 [==============================] - 10s 2s/step - loss: 0.1330 - accuracy: 0.9768 - val_loss: 0.6913 - val_accuracy: 0.7619\n",
            "Epoch 26/40\n",
            "5/5 [==============================] - 10s 2s/step - loss: 0.1225 - accuracy: 0.9801 - val_loss: 0.5196 - val_accuracy: 0.8571\n",
            "Epoch 27/40\n",
            "5/5 [==============================] - 10s 2s/step - loss: 0.1152 - accuracy: 0.9860 - val_loss: 0.5750 - val_accuracy: 0.8571\n",
            "Epoch 28/40\n",
            "5/5 [==============================] - 10s 2s/step - loss: 0.0715 - accuracy: 0.9950 - val_loss: 0.5359 - val_accuracy: 0.8810\n",
            "Epoch 29/40\n",
            "5/5 [==============================] - 10s 2s/step - loss: 0.0586 - accuracy: 0.9944 - val_loss: 0.4994 - val_accuracy: 0.9048\n",
            "Epoch 30/40\n",
            "5/5 [==============================] - 10s 2s/step - loss: 0.0485 - accuracy: 0.9966 - val_loss: 0.5553 - val_accuracy: 0.8571\n",
            "Epoch 31/40\n",
            "5/5 [==============================] - 10s 2s/step - loss: 0.0376 - accuracy: 0.9986 - val_loss: 0.5418 - val_accuracy: 0.9048\n",
            "Epoch 32/40\n",
            "5/5 [==============================] - 10s 2s/step - loss: 0.0417 - accuracy: 0.9916 - val_loss: 0.5019 - val_accuracy: 0.9048\n",
            "Epoch 33/40\n",
            "5/5 [==============================] - 10s 2s/step - loss: 0.0273 - accuracy: 1.0000 - val_loss: 0.4857 - val_accuracy: 0.9048\n",
            "Epoch 34/40\n",
            "5/5 [==============================] - 10s 2s/step - loss: 0.0256 - accuracy: 1.0000 - val_loss: 0.5043 - val_accuracy: 0.8810\n",
            "Epoch 35/40\n",
            "5/5 [==============================] - 10s 2s/step - loss: 0.0212 - accuracy: 1.0000 - val_loss: 0.4871 - val_accuracy: 0.9048\n",
            "Epoch 36/40\n",
            "5/5 [==============================] - 10s 2s/step - loss: 0.0190 - accuracy: 1.0000 - val_loss: 0.4806 - val_accuracy: 0.9048\n",
            "Epoch 37/40\n",
            "5/5 [==============================] - 10s 2s/step - loss: 0.0170 - accuracy: 1.0000 - val_loss: 0.4941 - val_accuracy: 0.9048\n",
            "Epoch 38/40\n",
            "5/5 [==============================] - 10s 2s/step - loss: 0.0135 - accuracy: 1.0000 - val_loss: 0.4955 - val_accuracy: 0.9048\n",
            "Epoch 39/40\n",
            "5/5 [==============================] - 10s 2s/step - loss: 0.0158 - accuracy: 1.0000 - val_loss: 0.4918 - val_accuracy: 0.9286\n",
            "Epoch 40/40\n",
            "5/5 [==============================] - 10s 2s/step - loss: 0.0124 - accuracy: 1.0000 - val_loss: 0.5037 - val_accuracy: 0.9048\n"
          ],
          "name": "stdout"
        }
      ]
    },
    {
      "cell_type": "code",
      "metadata": {
        "colab": {
          "base_uri": "https://localhost:8080/"
        },
        "id": "6hL2MUIYLSBN",
        "outputId": "6bb882dc-bf5f-43d0-e29b-0ebf974f21ea"
      },
      "source": [
        "#Show the summary of the model\n",
        "model.summary()"
      ],
      "execution_count": 64,
      "outputs": [
        {
          "output_type": "stream",
          "text": [
            "Model: \"sequential_5\"\n",
            "_________________________________________________________________\n",
            "Layer (type)                 Output Shape              Param #   \n",
            "=================================================================\n",
            "time_distributed_35 (TimeDis (None, 5, 48, 48, 32)     2432      \n",
            "_________________________________________________________________\n",
            "time_distributed_36 (TimeDis (None, 5, 24, 24, 32)     0         \n",
            "_________________________________________________________________\n",
            "time_distributed_37 (TimeDis (None, 5, 24, 24, 64)     51264     \n",
            "_________________________________________________________________\n",
            "time_distributed_38 (TimeDis (None, 5, 12, 12, 64)     0         \n",
            "_________________________________________________________________\n",
            "time_distributed_39 (TimeDis (None, 5, 12, 12, 128)    204928    \n",
            "_________________________________________________________________\n",
            "time_distributed_40 (TimeDis (None, 5, 6, 6, 128)      0         \n",
            "_________________________________________________________________\n",
            "time_distributed_41 (TimeDis (None, 5, 4608)           0         \n",
            "_________________________________________________________________\n",
            "lstm_5 (LSTM)                (None, 50)                931800    \n",
            "_________________________________________________________________\n",
            "dense_5 (Dense)              (None, 7)                 357       \n",
            "=================================================================\n",
            "Total params: 1,190,781\n",
            "Trainable params: 1,190,781\n",
            "Non-trainable params: 0\n",
            "_________________________________________________________________\n"
          ],
          "name": "stdout"
        }
      ]
    },
    {
      "cell_type": "code",
      "metadata": {
        "colab": {
          "base_uri": "https://localhost:8080/",
          "height": 313
        },
        "id": "qPdf_MKzlDgo",
        "outputId": "b5f5a29b-ed9f-4872-975f-3c4cfe47587e"
      },
      "source": [
        "# Create plot of accuracy by epoch\n",
        "plt.plot(model_hist.history['accuracy'])\n",
        "plt.plot(model_hist.history['val_accuracy'])\n",
        "plt.title('Model accuracy')\n",
        "plt.ylabel('Accuracy')\n",
        "plt.xlabel('Epochs')\n",
        "plt.legend(['Training', 'Validation'], loc='upper left')\n",
        "plt.figure(figsize=(20,10))\n",
        "plt.show()"
      ],
      "execution_count": 65,
      "outputs": [
        {
          "output_type": "display_data",
          "data": {
            "image/png": "[encoded data removed]",
            "text/plain": [
              "<Figure size 432x288 with 1 Axes>"
            ]
          },
          "metadata": {
            "tags": [],
            "needs_background": "light"
          }
        },
        {
          "output_type": "display_data",
          "data": {
            "text/plain": [
              "<Figure size 1440x720 with 0 Axes>"
            ]
          },
          "metadata": {
            "tags": []
          }
        }
      ]
    },
    {
      "cell_type": "code",
      "metadata": {
        "colab": {
          "base_uri": "https://localhost:8080/"
        },
        "id": "PJFnQvVFI_U5",
        "outputId": "4100b169-b3e8-4e91-ac7f-5dc0c27ec9fa"
      },
      "source": [
        "trainScore = model.evaluate(xTrain, yTrain, verbose=0)\n",
        "print('Train loss:', trainScore[0])\n",
        "print('Train accuracy:', 100*trainScore[1])\n",
        "\n",
        "testScore = model.evaluate(xTest, yTest, verbose=0)\n",
        "print('Test loss:', testScore[0])\n",
        "print('Test accuracy:', 100*testScore[1])"
      ],
      "execution_count": 66,
      "outputs": [
        {
          "output_type": "stream",
          "text": [
            "Train loss: 0.011615821160376072\n",
            "Train accuracy: 100.0\n",
            "Test loss: 0.23697559535503387\n",
            "Test accuracy: 93.99999976158142\n"
          ],
          "name": "stdout"
        }
      ]
    }
  ]
}